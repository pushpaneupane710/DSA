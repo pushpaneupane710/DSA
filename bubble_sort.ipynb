{
 "cells": [
  {
   "cell_type": "code",
   "execution_count": null,
   "metadata": {
    "id": "C7Q78nckyTwl"
   },
   "outputs": [],
   "source": []
  },
  {
   "cell_type": "markdown",
   "metadata": {
    "id": "9VNu_mg0yW0m"
   },
   "source": [
    "# bubble sort"
   ]
  },
  {
   "cell_type": "markdown",
   "metadata": {
    "id": "YuhrxM_vyZLc"
   },
   "source": []
  },
  {
   "cell_type": "code",
   "execution_count": 9,
   "metadata": {
    "id": "BXsNRl1Iyhz-"
   },
   "outputs": [],
   "source": [
    "my_array=[64, 34, 25, 12, 22, 11, 90, 5]"
   ]
  },
  {
   "cell_type": "code",
   "execution_count": null,
   "metadata": {
    "colab": {
     "base_uri": "https://localhost:8080/",
     "height": 1000
    },
    "id": "jzaPLljnyh_Y",
    "outputId": "2a49c062-c82d-425c-a545-824922fec0a3"
   },
   "outputs": [
    {
     "ename": "",
     "evalue": "",
     "output_type": "error",
     "traceback": [
      "\u001b[1;31mFailed to start the Kernel. \n",
      "\u001b[1;31mSyntaxError: invalid syntax. \n",
      "\u001b[1;31mView Jupyter <a href='command:jupyter.viewOutput'>log</a> for further details."
     ]
    }
   ],
   "source": [
    "n=len(my_array) #length of an array or get the number of elements in the array, here n=8\n",
    "print(\"length of my_array is: \", n)\n",
    "print(\"-----------------------------\")\n",
    "#outer loop controls the number of passes through the list\n",
    "#outer loop for each pass\n",
    "for i in range(n-1): # we need n-1 passes\n",
    "  #we need n-1 passes always (for i ranging from 0 to n-2) because after n-1 passes, the list will be sorted.\n",
    "  #here, i (index)= n-1\n",
    "  #on each pass, the largest unsorted element \"bubbles up\" to its correct position at the end of the unsorted part of the array.\n",
    "  print(\"just checking the value of i= \", i)\n",
    "  print(\"just checking the value of n-1= \", n-1, \"n-1 is 7 because it starts from 0\")\n",
    "  print(\"-----------------------------\")\n",
    "\n",
    "  #inner loop to perform comparisons and swaps for this pass\n",
    "  #inner loop goes through the unsorted part of the aary and perform comparisons and swaps.\n",
    "  for j in range(n-i-1): #j starts from 0 and goes up to n-i-2. This range decreases by one with each outer loop pass (i). This is because, after each pass, the largest element among the unsorted elements is placed at the end, so it does not need to be checked again.\n",
    "    print(\"j=\", j)\n",
    "    print(\"-----------------------------\")\n",
    "    if my_array[j]>my_array[j+1]:#swap if the left element if greater than the right element in list of array #checks if current element if greater than the next element?\n",
    "      my_array[j], my_array[j+1]=my_array[j+1],my_array[j] #if current elemnet is greater than the next elemnet, the two elemnets are swapped.\n",
    "print(\"sorted_array is: \", my_array)\n",
    "\n",
    "'''\n",
    "Step-by-Step Execution Example:\n",
    "my_array = [64, 34, 25, 12, 22, 11, 90, 5].\n",
    "n = 8.\n",
    "\n",
    "\n",
    "Pass 1 (i = 0)\n",
    "The largest element should bubble to the end.\n",
    "\n",
    "Compare 64 and 34: swap → [34, 64, 25, 12, 22, 11, 90, 5]\n",
    "Compare 64 and 25: swap → [34, 25, 64, 12, 22, 11, 90, 5]\n",
    "Compare 64 and 12: swap → [34, 25, 12, 64, 22, 11, 90, 5]\n",
    "Compare 64 and 22: swap → [34, 25, 12, 22, 64, 11, 90, 5]\n",
    "Compare 64 and 11: swap → [34, 25, 12, 22, 11, 64, 90, 5]\n",
    "Compare 64 and 90: no swap\n",
    "Compare 90 and 5: swap → [34, 25, 12, 22, 11, 64, 5, 90]\n",
    "After Pass 1, the largest element 90 is in its correct position.\n",
    "\n",
    "Pass 2 (i = 1)\n",
    "The second largest element should bubble to the second last position.\n",
    "\n",
    "Compare 34 and 25: swap → [25, 34, 12, 22, 11, 64, 5, 90]\n",
    "Compare 34 and 12: swap → [25, 12, 34, 22, 11, 64, 5, 90]\n",
    "Compare 34 and 22: swap → [25, 12, 22, 34, 11, 64, 5, 90]\n",
    "Compare 34 and 11: swap → [25, 12, 22, 11, 34, 64, 5, 90]\n",
    "Compare 34 and 64: no swap\n",
    "Compare 64 and 5: swap → [25, 12, 22, 11, 34, 5, 64, 90]\n",
    "After Pass 2, 64 is in its correct position.\n",
    "\n",
    "Pass 3 (i = 2)\n",
    "The third largest element should bubble to the third last position.\n",
    "\n",
    "Compare 25 and 12: swap → [12, 25, 22, 11, 34, 5, 64, 90]\n",
    "Compare 25 and 22: swap → [12, 22, 25, 11, 34, 5, 64, 90]\n",
    "Compare 25 and 11: swap → [12, 22, 11, 25, 34, 5, 64, 90]\n",
    "Compare 25 and 34: no swap\n",
    "Compare 34 and 5: swap → [12, 22, 11, 25, 5, 34, 64, 90]\n",
    "After Pass 3, 34 is in its correct position.\n",
    "\n",
    "Subsequent Passes\n",
    "The process continues similarly, with each pass moving the next largest unsorted element into its correct position. The remaining passes proceed until all elements are sorted.\n",
    "\n",
    "Final Sorted Array\n",
    "After all passes, the sorted array is:\n",
    "\n",
    "c\n",
    "Copy code\n",
    "Sorted array: [5, 11, 12, 22, 25, 34, 64, 90]\n",
    "Summary\n",
    "Outer Loop: Controls the number of passes (total of n-1 passes).\n",
    "Inner Loop: Compares and swaps adjacent elements, reducing the range in each pass.\n",
    "Swapping Condition: Moves larger elements to the right, gradually sorting the array from largest to smallest elements in each pass.\n",
    "\n",
    "\n",
    "\n",
    "\n",
    "\n",
    "'''"
   ]
  },
  {
   "cell_type": "code",
   "execution_count": 8,
   "metadata": {
    "id": "IDCwj4Df0JJK"
   },
   "outputs": [],
   "source": []
  }
 ],
 "metadata": {
  "colab": {
   "provenance": []
  },
  "kernelspec": {
   "display_name": "base",
   "language": "python",
   "name": "python3"
  },
  "language_info": {
   "name": "python",
   "version": "3.11.5"
  }
 },
 "nbformat": 4,
 "nbformat_minor": 0
}
