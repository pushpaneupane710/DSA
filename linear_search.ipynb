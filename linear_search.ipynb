{
 "cells": [
  {
   "cell_type": "markdown",
   "metadata": {},
   "source": [
    "#linear search"
   ]
  },
  {
   "cell_type": "code",
   "execution_count": 7,
   "metadata": {},
   "outputs": [
    {
     "name": "stdout",
     "output_type": "stream",
     "text": [
      "target_value is found in my_list at index: 3\n"
     ]
    }
   ],
   "source": [
    "\n",
    "def linear_search(my_list,target_value):\n",
    "    size=len(my_list)\n",
    "    #iterate over each element in my_list\n",
    "    for index in range(0, size):\n",
    "        #check if current element matches the target_value\n",
    "        if (my_list[index]==target_value):\n",
    "            #return the index of target_value if found\n",
    "            return index\n",
    "    #if the target_value is not found, return  -1    \n",
    "    return -1\n",
    "\n",
    "\n",
    "my_list=[10,23,45,70,11]\n",
    "target_value=70\n",
    "\n",
    "index=linear_search(my_list,target_value)\n",
    "if index!=-1:\n",
    "    print(f\"target_value is found in my_list at index: {index}\")\n",
    "else: \n",
    "    print(\"target value is not found in my_list\")"
   ]
  },
  {
   "cell_type": "code",
   "execution_count": null,
   "metadata": {},
   "outputs": [
    {
     "name": "stdout",
     "output_type": "stream",
     "text": [
      "1\n"
     ]
    }
   ],
   "source": [
    "\n",
    "#if we have repeated elements in the array or list, then it returns the first occurance index of the target value (first time at which index the target value is occuring), \n",
    "# else return -1 (-1 meaning target value didnot matches with the element in the list or array)\n",
    "def linear_search(arr, target_value):\n",
    "    for index in range(0,len(arr)):\n",
    "        if (arr[index]==target_value):\n",
    "            return index\n",
    "    return -1\n",
    "\n",
    "arr=[2,5,3,7,9,100,2,5,6]\n",
    "target_value=5\n",
    "\n",
    "index=linear_search(arr,target_value)\n",
    "print(index)\n",
    "\n",
    "\n",
    "#linear_search([3, 7, 2, 5], 2) should return 2\n",
    "\n",
    "#linear_search([1, 1, 2, 1], 1) should return 0\n",
    "\n",
    "#linear_search([], 5) should return -1\n",
    "\n",
    "#linear_search([4, 2, 8], 6) should return -1\n",
    "\n",
    "\n",
    "\n",
    "\n"
   ]
  }
 ],
 "metadata": {
  "kernelspec": {
   "display_name": "base",
   "language": "python",
   "name": "python3"
  },
  "language_info": {
   "codemirror_mode": {
    "name": "ipython",
    "version": 3
   },
   "file_extension": ".py",
   "mimetype": "text/x-python",
   "name": "python",
   "nbconvert_exporter": "python",
   "pygments_lexer": "ipython3",
   "version": "3.11.5"
  }
 },
 "nbformat": 4,
 "nbformat_minor": 2
}
