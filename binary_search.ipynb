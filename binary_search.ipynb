{
 "cells": [
  {
   "cell_type": "markdown",
   "metadata": {},
   "source": [
    "#binary search"
   ]
  },
  {
   "cell_type": "code",
   "execution_count": null,
   "metadata": {},
   "outputs": [
    {
     "name": "stdout",
     "output_type": "stream",
     "text": [
      "size of my_list is: 8\n",
      "target value found in the list at index: 3\n"
     ]
    }
   ],
   "source": [
    "def binary_search(my_list, target_value):\n",
    "    size=len(my_list)\n",
    "    print(f\"size of my_list is: {size}\")\n",
    "\n",
    "    start=0\n",
    "    end=size-1\n",
    "\n",
    "    while (start<=end):\n",
    "        mid=(start+end)//2 # Calculate the middle index\n",
    "\n",
    "        # Check if the middle element is the target\n",
    "        if (my_list[mid]==target_value):\n",
    "            return mid #found the target # Target found at index mid\n",
    "        # If the target is less than the middle element, search the left half\n",
    "        elif (my_list[mid]>target_value):\n",
    "            end=mid-1\n",
    "        # If the target is greater than the middle element, search the right half\n",
    "        elif (my_list[mid]<target_value):\n",
    "            start=mid+1\n",
    "            \n",
    "    # If the target is not found, return -1\n",
    "    return -1\n",
    "        \n",
    "\n",
    "\n",
    "my_list=[10,23,35,45,50,70,85]\n",
    "target_value=50\n",
    "\n",
    "index=binary_search(my_list, target_value)\n",
    "if index!=-1:\n",
    "    print(f\"target value found in the list at index: {index}\")\n",
    "else:\n",
    "    print(\"target value not found in the list\")"
   ]
  }
 ],
 "metadata": {
  "kernelspec": {
   "display_name": "base",
   "language": "python",
   "name": "python3"
  },
  "language_info": {
   "codemirror_mode": {
    "name": "ipython",
    "version": 3
   },
   "file_extension": ".py",
   "mimetype": "text/x-python",
   "name": "python",
   "nbconvert_exporter": "python",
   "pygments_lexer": "ipython3",
   "version": "3.11.5"
  }
 },
 "nbformat": 4,
 "nbformat_minor": 2
}
